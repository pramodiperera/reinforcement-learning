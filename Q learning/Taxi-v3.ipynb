{
 "cells": [
  {
   "cell_type": "markdown",
   "id": "e29e4492",
   "metadata": {},
   "source": [
    "## Q-learning with OpenAI Taxi-v3 "
   ]
  },
  {
   "cell_type": "code",
   "execution_count": 1,
   "id": "73cc09ff",
   "metadata": {},
   "outputs": [],
   "source": [
    "# import libraries\n",
    "import numpy as np\n",
    "import gym\n",
    "import random\n",
    "from IPython.display import clear_output\n",
    "from IPython.display import Video\n",
    "import time\n",
    "\n",
    "import warnings\n",
    "warnings.filterwarnings('ignore')"
   ]
  },
  {
   "cell_type": "code",
   "execution_count": 2,
   "id": "0760dcf1",
   "metadata": {
    "scrolled": true
   },
   "outputs": [
    {
     "name": "stdout",
     "output_type": "stream",
     "text": [
      "+---------+\n",
      "|\u001b[35mR\u001b[0m: | : :G|\n",
      "| : | : : |\n",
      "| : : : : |\n",
      "| | : | : |\n",
      "|\u001b[34;1mY\u001b[0m| : |\u001b[43mB\u001b[0m: |\n",
      "+---------+\n",
      "\n"
     ]
    }
   ],
   "source": [
    "############### create the environment ##########\n",
    "env = gym.make(\"Taxi-v3\")\n",
    "env.reset()\n",
    "env.render()"
   ]
  },
  {
   "cell_type": "code",
   "execution_count": 6,
   "id": "d8ff089e",
   "metadata": {},
   "outputs": [
    {
     "name": "stdout",
     "output_type": "stream",
     "text": [
      "+---------+\n",
      "|R: | : :G|\n",
      "| : | :\u001b[43m \u001b[0m: |\n",
      "| : : : : |\n",
      "| | : | : |\n",
      "|\u001b[35mY\u001b[0m| : |\u001b[34;1mB\u001b[0m: |\n",
      "+---------+\n",
      "\n"
     ]
    }
   ],
   "source": [
    "for i in range(20):\n",
    "    clear_output(wait=True)\n",
    "    env.reset()\n",
    "    env.render()\n",
    "    time.sleep(0.5)"
   ]
  },
  {
   "cell_type": "code",
   "execution_count": 14,
   "id": "cc87b2ce",
   "metadata": {},
   "outputs": [],
   "source": [
    "# all actions from each state\n",
    "#env.P "
   ]
  },
  {
   "cell_type": "code",
   "execution_count": 7,
   "id": "6e047382",
   "metadata": {},
   "outputs": [
    {
     "name": "stdout",
     "output_type": "stream",
     "text": [
      "No of actions :  6\n",
      "No of states :  500\n",
      "\n",
      " [[0. 0. 0. 0. 0. 0.]\n",
      " [0. 0. 0. 0. 0. 0.]\n",
      " [0. 0. 0. 0. 0. 0.]\n",
      " ...\n",
      " [0. 0. 0. 0. 0. 0.]\n",
      " [0. 0. 0. 0. 0. 0.]\n",
      " [0. 0. 0. 0. 0. 0.]]\n"
     ]
    }
   ],
   "source": [
    "# Actions and states\n",
    "action_size = env.action_space.n\n",
    "state_size = env.observation_space.n\n",
    "print(\"No of actions : \", action_size)\n",
    "print(\"No of states : \", state_size)\n",
    "\n",
    "# Intial Q-table\n",
    "qtable = np.zeros((state_size, action_size))\n",
    "print('\\n',qtable)"
   ]
  },
  {
   "cell_type": "code",
   "execution_count": 8,
   "id": "b9640557",
   "metadata": {},
   "outputs": [],
   "source": [
    "######### hyperparameters ############\n",
    "\n",
    "tot_episodes = 50000                    # total episodes\n",
    "tot_test_episodes = 100                 # total test episodes\n",
    "max_steps = 99                          # max steps per episodes\n",
    "\n",
    "learning_rate = 0.7                     # learning rate\n",
    "gamma = 0.618                           # discount rate\n",
    "\n",
    "# Exploration parameters\n",
    "epsilon = 1.0                           # exploration vs exploitation\n",
    "max_eps = 1.0                           # Exploration probability at start\n",
    "min_eps = 0.01                          # minimum exploration probability\n",
    "decay_rate = 0.01                       # decay rate for exploration probability"
   ]
  },
  {
   "cell_type": "code",
   "execution_count": 9,
   "id": "e60a40c1",
   "metadata": {},
   "outputs": [],
   "source": [
    "########### Q-learning algorithm ##########\n",
    "\n",
    "for episode in range(tot_episodes):\n",
    "    state = env.reset() # a new state\n",
    "    step = 0\n",
    "    done = False\n",
    "    \n",
    "    #for step in range(max_steps):\n",
    "    while not done:\n",
    "        # choose an action 'a' from the current state 's'\n",
    "        exp_exp_tradeoff = random.uniform(0, 1)\n",
    "        \n",
    "        if exp_exp_tradeoff > epsilon:  # Exploitation\n",
    "            action = np.argmax(qtable[state, :])\n",
    "        \n",
    "        else:      # random chioce (exploration)\n",
    "            action = env.action_space.sample()\n",
    "        \n",
    "        # take the action 'a'\n",
    "        new_state, reward, done, info = env.step(action)\n",
    "        \n",
    "        # update the q value\n",
    "        # Q(s,a) := Q(s,a) + l_rate[R(s,a) + gamma * max Q(s',a') - Q(s,a)] \n",
    "        qtable[state, action] = qtable[state, action] + learning_rate*(reward + gamma*np.argmax(qtable[new_state]) - qtable[state, action])\n",
    "        \n",
    "        # set the new state\n",
    "        state = new_state\n",
    "        \n",
    "        # if done, then finish episode\n",
    "        if done == True:\n",
    "            break\n",
    "    # reduce epsilon -> less esploration \n",
    "    epsilon = min_eps + (max_eps - min_eps)*np.exp(-decay_rate*episode) "
   ]
  },
  {
   "cell_type": "code",
   "execution_count": 78,
   "id": "f7df62b2",
   "metadata": {},
   "outputs": [],
   "source": [
    "############# Play Taxi ##############\n",
    "# test with above q table\n",
    "env.reset()\n",
    "rewards = []\n",
    "\n",
    "for eps in range(tot_test_episodes): \n",
    "    state = env.reset()\n",
    "    step = 0\n",
    "    done = False\n",
    "    total_reward = 0\n",
    "    \n",
    "    #print(\"-------------------Episode \", eps)\n",
    "    \n",
    "    for step in range(max_steps):\n",
    "        #clear_output(wait=True)\n",
    "        #env.render()\n",
    "        \n",
    "        # take the action 'a' --> select the maximum future reward\n",
    "        action = np.argmax(qtable[state, :])\n",
    "        new_state, reward, done, info = env.step(action)\n",
    "        total_reward += reward\n",
    "        state = new_state\n",
    "     \n",
    "        #print(total_reward)\n",
    "        #print(rewards)\n",
    "            \n",
    "        if done:\n",
    "            rewards.append(total_reward)\n",
    "            break\n",
    "            \n",
    "env.close()\n",
    "#print(\"score over time: \", str(sum(rewards)/tot_test_episodes))"
   ]
  },
  {
   "cell_type": "markdown",
   "id": "bf4961e5",
   "metadata": {},
   "source": [
    "***The following code shows the training without generating a random number to select the action***"
   ]
  },
  {
   "cell_type": "code",
   "execution_count": 117,
   "id": "1ea16740",
   "metadata": {
    "scrolled": true
   },
   "outputs": [
    {
     "name": "stdout",
     "output_type": "stream",
     "text": [
      "Solved in 349 steps with a total reward of -1165\n"
     ]
    }
   ],
   "source": [
    "######### without using Q learning \n",
    "\n",
    "state = env.reset() # a new episode\n",
    "counter = 0    # steps\n",
    "g = 0          # total reward\n",
    "reward = None\n",
    "\n",
    "while reward != 20:         #bcz max reward, the agent gets is 20\n",
    "    state, reward, done, info = env.step(env.action_space.sample())\n",
    "    counter += 1\n",
    "    g += reward\n",
    "\n",
    "print(\"Solved in {} steps with a total reward of {}\".format(counter, g))   "
   ]
  },
  {
   "cell_type": "markdown",
   "id": "063a77c6",
   "metadata": {},
   "source": [
    "In above case, agent has taken many stepd and the final reward is minus. Therefore, we use Q-learning to select the optimal action for a given state."
   ]
  },
  {
   "cell_type": "code",
   "execution_count": 10,
   "id": "5d3189be",
   "metadata": {},
   "outputs": [
    {
     "name": "stdout",
     "output_type": "stream",
     "text": [
      "Initial state = 344\n"
     ]
    }
   ],
   "source": [
    "######### only one episode\n",
    "Q = np.zeros([state_size, action_size])\n",
    "\n",
    "episodes = 1\n",
    "G = 0         # goal state\n",
    "alpha = 0.618\n",
    "\n",
    "for episode in range(1, episodes+1):\n",
    "    done = False\n",
    "    G, reward = 0, 0\n",
    "    state = env.reset()\n",
    "    firstState = state\n",
    "    print(\"Initial state = {}\".format(state))\n",
    "    \n",
    "    while reward != 20:\n",
    "        action = np.argmax(Q[state])\n",
    "        new_state, reward, done, info = env.step(action)\n",
    "        Q[state, action] += alpha * (reward + np.max(Q[new_state]) - Q[state, action])\n",
    "        G += reward\n",
    "        state = new_state"
   ]
  },
  {
   "cell_type": "code",
   "execution_count": 11,
   "id": "637abcf9",
   "metadata": {},
   "outputs": [
    {
     "name": "stdout",
     "output_type": "stream",
     "text": [
      "final state = 0\n"
     ]
    }
   ],
   "source": [
    "print(\"final state = {}\".format(state))"
   ]
  },
  {
   "cell_type": "code",
   "execution_count": 13,
   "id": "7acce24c",
   "metadata": {},
   "outputs": [
    {
     "data": {
      "text/plain": [
       "array([-2.12450721, -1.94418103, -1.854     , -1.32618103, -6.18      ,\n",
       "       -6.18      ])"
      ]
     },
     "execution_count": 13,
     "metadata": {},
     "output_type": "execute_result"
    }
   ],
   "source": [
    "Q[344]"
   ]
  },
  {
   "cell_type": "code",
   "execution_count": 19,
   "id": "9715b43d",
   "metadata": {},
   "outputs": [
    {
     "name": "stdout",
     "output_type": "stream",
     "text": [
      "Episode 100 total reward: 10\n",
      "Episode 200 total reward: 9\n",
      "Episode 300 total reward: 6\n",
      "Episode 400 total reward: 6\n",
      "Episode 500 total reward: 12\n",
      "Episode 600 total reward: 7\n",
      "Episode 700 total reward: 4\n",
      "Episode 800 total reward: 6\n",
      "Episode 900 total reward: 9\n",
      "Episode 1000 total reward: 5\n",
      "Episode 1100 total reward: 5\n",
      "Episode 1200 total reward: 10\n",
      "Episode 1300 total reward: 6\n",
      "Episode 1400 total reward: 10\n",
      "Episode 1500 total reward: 5\n",
      "Episode 1600 total reward: 9\n",
      "Episode 1700 total reward: 11\n",
      "Episode 1800 total reward: 6\n",
      "Episode 1900 total reward: 6\n",
      "Episode 2000 total reward: 5\n",
      "Episode 2100 total reward: 10\n",
      "Episode 2200 total reward: 11\n",
      "Episode 2300 total reward: 7\n",
      "Episode 2400 total reward: 11\n",
      "Episode 2500 total reward: 12\n",
      "Episode 2600 total reward: 6\n",
      "Episode 2700 total reward: 8\n",
      "Episode 2800 total reward: 7\n",
      "Episode 2900 total reward: 10\n",
      "Episode 3000 total reward: 9\n",
      "Total reward agent received =  23472\n"
     ]
    }
   ],
   "source": [
    "###############  for multiple episodes\n",
    "\n",
    "#Q = np.zeros([state_size, action_size])\n",
    "\n",
    "episodes = 3000\n",
    "reward_tracker = []\n",
    "G = 0\n",
    "alpha = 0.618\n",
    "\n",
    "\n",
    "for episode in range(1, episodes+1):\n",
    "    done = False\n",
    "    G, reward = 0, 0\n",
    "    state = env.reset()\n",
    "    \n",
    "    while done != True:\n",
    "        action = np.argmax(Q[state])\n",
    "        new_state, reward, done, info = env.step(action)\n",
    "        Q[state, action] += alpha * (reward + np.max(Q[new_state]) - Q[state, action])\n",
    "        G += reward\n",
    "        state = new_state\n",
    "    \n",
    "    if episode % 100 ==0:\n",
    "        print('Episode {} total reward: {}'.format(episode, G))\n",
    "    \n",
    "    reward_tracker.append(G)\n",
    "    \n",
    "print(\"Total reward agent received = \", sum(reward_tracker))"
   ]
  },
  {
   "cell_type": "code",
   "execution_count": 27,
   "id": "e35bd555",
   "metadata": {},
   "outputs": [
    {
     "name": "stdout",
     "output_type": "stream",
     "text": [
      "+---------+\n",
      "|R: | : :G|\n",
      "| : | : : |\n",
      "| : : : : |\n",
      "| | : | : |\n",
      "|\u001b[35m\u001b[34;1m\u001b[43mY\u001b[0m\u001b[0m\u001b[0m| : |B: |\n",
      "+---------+\n",
      "  (Dropoff)\n"
     ]
    }
   ],
   "source": [
    "### testing  - Play Taxi\n",
    "state = env.reset()\n",
    "done = None\n",
    "\n",
    "while done != True:\n",
    "    action = np.argmax(Q[state])\n",
    "    state, reward, done, info = env.step(action)\n",
    "    clear_output(wait=True)\n",
    "    env.render()\n",
    "    time.sleep(1)"
   ]
  },
  {
   "cell_type": "code",
   "execution_count": 36,
   "id": "ed3c1e2c",
   "metadata": {},
   "outputs": [
    {
     "data": {
      "text/html": [
       "<video src=\"taxi-agent.mp4\" controls  >\n",
       "      Your browser does not support the <code>video</code> element.\n",
       "    </video>"
      ],
      "text/plain": [
       "<IPython.core.display.Video object>"
      ]
     },
     "execution_count": 36,
     "metadata": {},
     "output_type": "execute_result"
    }
   ],
   "source": [
    "Video(\"taxi-agent.mp4\" )"
   ]
  },
  {
   "cell_type": "code",
   "execution_count": null,
   "id": "948582be",
   "metadata": {},
   "outputs": [],
   "source": []
  }
 ],
 "metadata": {
  "kernelspec": {
   "display_name": "Python 3",
   "language": "python",
   "name": "python3"
  },
  "language_info": {
   "codemirror_mode": {
    "name": "ipython",
    "version": 3
   },
   "file_extension": ".py",
   "mimetype": "text/x-python",
   "name": "python",
   "nbconvert_exporter": "python",
   "pygments_lexer": "ipython3",
   "version": "3.8.8"
  }
 },
 "nbformat": 4,
 "nbformat_minor": 5
}
